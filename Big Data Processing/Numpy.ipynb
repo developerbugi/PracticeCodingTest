{
 "cells": [
  {
   "cell_type": "code",
   "execution_count": 8,
   "metadata": {
    "collapsed": true
   },
   "outputs": [
    {
     "name": "stdout",
     "output_type": "stream",
     "text": [
      "[[1 2 3]\n",
      " [4 5 6]\n",
      " [7 8 9]]\n"
     ]
    }
   ],
   "source": [
    "import numpy as np\n",
    "\n",
    "arr1 = np.array([[1,2,3],[4,5,6]])\n",
    "arr2 = np.array([[7,8,9]])\n",
    "\n",
    "arr3 = np.append(arr1, arr2, axis =0)\n",
    "print(arr3)"
   ]
  },
  {
   "cell_type": "code",
   "execution_count": 17,
   "outputs": [
    {
     "name": "stdout",
     "output_type": "stream",
     "text": [
      "[[ 1  2  3]\n",
      " [10 10 10]\n",
      " [ 4  5  6]] [[ 1 10  2  3]\n",
      " [ 4 10  5  6]]\n"
     ]
    }
   ],
   "source": [
    "arr4 = np.array([[1,2,3], [4,5,6]])\n",
    "arr5 = np.insert(arr4, 1, 10, axis=0)\n",
    "arr6 = np.insert(arr4, 1, 10, axis=1)\n",
    "print(arr5, arr6)"
   ],
   "metadata": {
    "collapsed": false
   }
  },
  {
   "cell_type": "code",
   "execution_count": 20,
   "outputs": [
    {
     "name": "stdout",
     "output_type": "stream",
     "text": [
      "[[0 1 2]\n",
      " [2 3 4]\n",
      " [5 7 6]]\n",
      "[[1 2 6]\n",
      " [0 4 7]\n",
      " [2 3 5]]\n"
     ]
    }
   ],
   "source": [
    "arr7 = np.array([[2,1,6],[0,7,4],[5,3,2]])\n",
    "\n",
    "#sort는 기본이 오름차순을 기준으로 정렬\n",
    "arr8 = np.sort(arr7, axis = 0)\n",
    "print(arr8)\n",
    "\n",
    "arr9 = np.sort(arr7, axis = 1)\n",
    "print(arr9)"
   ],
   "metadata": {
    "collapsed": false
   }
  },
  {
   "cell_type": "code",
   "execution_count": 21,
   "outputs": [
    {
     "name": "stdout",
     "output_type": "stream",
     "text": [
      "[6 5 4 3 2 1 0]\n"
     ]
    }
   ],
   "source": [
    "# 내림차순 정렬 객체[np.argsort(-객체)] , .sort()[::-1]\n",
    "arr10 = np.array([4,2,6,5,1,3,0])\n",
    "arr11 = arr10[np.argsort(-arr10)]\n",
    "print(arr11)"
   ],
   "metadata": {
    "collapsed": false,
    "pycharm": {
     "name": "#%%ㅁ\n"
    }
   }
  }
 ],
 "metadata": {
  "kernelspec": {
   "display_name": "Python 3",
   "language": "python",
   "name": "python3"
  },
  "language_info": {
   "codemirror_mode": {
    "name": "ipython",
    "version": 2
   },
   "file_extension": ".py",
   "mimetype": "text/x-python",
   "name": "python",
   "nbconvert_exporter": "python",
   "pygments_lexer": "ipython2",
   "version": "2.7.6"
  }
 },
 "nbformat": 4,
 "nbformat_minor": 0
}
