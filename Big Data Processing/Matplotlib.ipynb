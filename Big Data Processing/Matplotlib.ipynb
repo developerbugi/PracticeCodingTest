{
 "cells": [
  {
   "cell_type": "code",
   "execution_count": 5,
   "metadata": {
    "collapsed": true
   },
   "outputs": [
    {
     "data": {
      "text/plain": "    구분      가격  판매량\n0  고급형  480000   35\n1  일반형  250000   28\n2  저가형  180000   22",
      "text/html": "<div>\n<style scoped>\n    .dataframe tbody tr th:only-of-type {\n        vertical-align: middle;\n    }\n\n    .dataframe tbody tr th {\n        vertical-align: top;\n    }\n\n    .dataframe thead th {\n        text-align: right;\n    }\n</style>\n<table border=\"1\" class=\"dataframe\">\n  <thead>\n    <tr style=\"text-align: right;\">\n      <th></th>\n      <th>구분</th>\n      <th>가격</th>\n      <th>판매량</th>\n    </tr>\n  </thead>\n  <tbody>\n    <tr>\n      <th>0</th>\n      <td>고급형</td>\n      <td>480000</td>\n      <td>35</td>\n    </tr>\n    <tr>\n      <th>1</th>\n      <td>일반형</td>\n      <td>250000</td>\n      <td>28</td>\n    </tr>\n    <tr>\n      <th>2</th>\n      <td>저가형</td>\n      <td>180000</td>\n      <td>22</td>\n    </tr>\n  </tbody>\n</table>\n</div>"
     },
     "execution_count": 5,
     "metadata": {},
     "output_type": "execute_result"
    }
   ],
   "source": [
    "import matplotlib.pyplot as plt\n",
    "import pandas as pd\n",
    "import numpy as np\n",
    "\n",
    "plt.rcParams[\"font.family\"] = 'malgun gothic'\n",
    "df = pd.read_csv(\"/Users/bugil/Desktop/11장 시각화 실습파일/supply.csv\")\n",
    "df"
   ]
  },
  {
   "cell_type": "code",
   "execution_count": 6,
   "outputs": [
    {
     "name": "stderr",
     "output_type": "stream",
     "text": [
      "findfont: Font family 'malgun gothic' not found.\n",
      "findfont: Font family 'malgun gothic' not found.\n",
      "findfont: Font family 'malgun gothic' not found.\n",
      "findfont: Font family 'malgun gothic' not found.\n",
      "findfont: Font family 'malgun gothic' not found.\n",
      "findfont: Font family 'malgun gothic' not found.\n",
      "findfont: Font family 'malgun gothic' not found.\n",
      "findfont: Font family 'malgun gothic' not found.\n",
      "findfont: Font family 'malgun gothic' not found.\n",
      "/Users/bugil/Documents/GitHub/PracticeCodingTest/venv/lib/python3.11/site-packages/IPython/core/pylabtools.py:152: UserWarning: Glyph 44032 (\\N{HANGUL SYLLABLE GA}) missing from current font.\n",
      "  fig.canvas.print_figure(bytes_io, **kw)\n",
      "/Users/bugil/Documents/GitHub/PracticeCodingTest/venv/lib/python3.11/site-packages/IPython/core/pylabtools.py:152: UserWarning: Glyph 44201 (\\N{HANGUL SYLLABLE GYEOG}) missing from current font.\n",
      "  fig.canvas.print_figure(bytes_io, **kw)\n",
      "findfont: Font family 'malgun gothic' not found.\n",
      "findfont: Font family 'malgun gothic' not found.\n",
      "/Users/bugil/Documents/GitHub/PracticeCodingTest/venv/lib/python3.11/site-packages/IPython/core/pylabtools.py:152: UserWarning: Glyph 44536 (\\N{HANGUL SYLLABLE GEU}) missing from current font.\n",
      "  fig.canvas.print_figure(bytes_io, **kw)\n",
      "/Users/bugil/Documents/GitHub/PracticeCodingTest/venv/lib/python3.11/site-packages/IPython/core/pylabtools.py:152: UserWarning: Glyph 47000 (\\N{HANGUL SYLLABLE RAE}) missing from current font.\n",
      "  fig.canvas.print_figure(bytes_io, **kw)\n",
      "/Users/bugil/Documents/GitHub/PracticeCodingTest/venv/lib/python3.11/site-packages/IPython/core/pylabtools.py:152: UserWarning: Glyph 54532 (\\N{HANGUL SYLLABLE PEU}) missing from current font.\n",
      "  fig.canvas.print_figure(bytes_io, **kw)\n",
      "findfont: Font family 'malgun gothic' not found.\n",
      "findfont: Font family 'malgun gothic' not found.\n",
      "findfont: Font family 'malgun gothic' not found.\n",
      "findfont: Font family 'malgun gothic' not found.\n",
      "findfont: Font family 'malgun gothic' not found.\n",
      "findfont: Font family 'malgun gothic' not found.\n",
      "findfont: Font family 'malgun gothic' not found.\n",
      "findfont: Font family 'malgun gothic' not found.\n",
      "/Users/bugil/Documents/GitHub/PracticeCodingTest/venv/lib/python3.11/site-packages/IPython/core/pylabtools.py:152: UserWarning: Glyph 44396 (\\N{HANGUL SYLLABLE GU}) missing from current font.\n",
      "  fig.canvas.print_figure(bytes_io, **kw)\n",
      "/Users/bugil/Documents/GitHub/PracticeCodingTest/venv/lib/python3.11/site-packages/IPython/core/pylabtools.py:152: UserWarning: Glyph 48516 (\\N{HANGUL SYLLABLE BUN}) missing from current font.\n",
      "  fig.canvas.print_figure(bytes_io, **kw)\n",
      "findfont: Font family 'malgun gothic' not found.\n",
      "findfont: Font family 'malgun gothic' not found.\n",
      "findfont: Font family 'malgun gothic' not found.\n",
      "findfont: Font family 'malgun gothic' not found.\n",
      "findfont: Font family 'malgun gothic' not found.\n",
      "findfont: Font family 'malgun gothic' not found.\n",
      "findfont: Font family 'malgun gothic' not found.\n",
      "findfont: Font family 'malgun gothic' not found.\n",
      "findfont: Font family 'malgun gothic' not found.\n",
      "findfont: Font family 'malgun gothic' not found.\n",
      "findfont: Font family 'malgun gothic' not found.\n",
      "findfont: Font family 'malgun gothic' not found.\n",
      "findfont: Font family 'malgun gothic' not found.\n",
      "findfont: Font family 'malgun gothic' not found.\n",
      "findfont: Font family 'malgun gothic' not found.\n",
      "findfont: Font family 'malgun gothic' not found.\n",
      "findfont: Font family 'malgun gothic' not found.\n",
      "findfont: Font family 'malgun gothic' not found.\n",
      "findfont: Font family 'malgun gothic' not found.\n",
      "findfont: Font family 'malgun gothic' not found.\n",
      "findfont: Font family 'malgun gothic' not found.\n",
      "findfont: Font family 'malgun gothic' not found.\n",
      "findfont: Font family 'malgun gothic' not found.\n",
      "findfont: Font family 'malgun gothic' not found.\n",
      "findfont: Font family 'malgun gothic' not found.\n",
      "findfont: Font family 'malgun gothic' not found.\n",
      "findfont: Font family 'malgun gothic' not found.\n",
      "findfont: Font family 'malgun gothic' not found.\n",
      "findfont: Font family 'malgun gothic' not found.\n",
      "findfont: Font family 'malgun gothic' not found.\n",
      "findfont: Font family 'malgun gothic' not found.\n",
      "findfont: Font family 'malgun gothic' not found.\n",
      "findfont: Font family 'malgun gothic' not found.\n",
      "findfont: Font family 'malgun gothic' not found.\n",
      "findfont: Font family 'malgun gothic' not found.\n"
     ]
    },
    {
     "data": {
      "text/plain": "<Figure size 640x480 with 1 Axes>",
      "image/png": "[encoded data removed]"
     },
     "metadata": {},
     "output_type": "display_data"
    }
   ],
   "source": [
    "label = ['고급형', '일반형', '저가형']\n",
    "index = np.arange(len(label))\n",
    "#막대 그래프 index = y축\n",
    "plt.bar(index, df['가격'])\n",
    "plt.title('가격 그래프', fontsize=20)\n",
    "plt.xlabel('구분', fontsize=18)\n",
    "plt.ylabel('가격', fontsize=18)\n",
    "plt.show()\n"
   ],
   "metadata": {
    "collapsed": false
   }
  },
  {
   "cell_type": "code",
   "execution_count": 11,
   "outputs": [
    {
     "name": "stderr",
     "output_type": "stream",
     "text": [
      "findfont: Font family 'malgun gothic' not found.\n",
      "findfont: Font family 'malgun gothic' not found.\n",
      "findfont: Font family 'malgun gothic' not found.\n",
      "findfont: Font family 'malgun gothic' not found.\n",
      "findfont: Font family 'malgun gothic' not found.\n",
      "findfont: Font family 'malgun gothic' not found.\n",
      "findfont: Font family 'malgun gothic' not found.\n",
      "findfont: Font family 'malgun gothic' not found.\n",
      "findfont: Font family 'malgun gothic' not found.\n",
      "findfont: Font family 'malgun gothic' not found.\n",
      "findfont: Font family 'malgun gothic' not found.\n",
      "findfont: Font family 'malgun gothic' not found.\n",
      "findfont: Font family 'malgun gothic' not found.\n",
      "findfont: Font family 'malgun gothic' not found.\n",
      "findfont: Font family 'malgun gothic' not found.\n",
      "findfont: Font family 'malgun gothic' not found.\n",
      "findfont: Font family 'malgun gothic' not found.\n",
      "findfont: Font family 'malgun gothic' not found.\n",
      "findfont: Font family 'malgun gothic' not found.\n",
      "findfont: Font family 'malgun gothic' not found.\n",
      "findfont: Font family 'malgun gothic' not found.\n",
      "findfont: Font family 'malgun gothic' not found.\n",
      "findfont: Font family 'malgun gothic' not found.\n",
      "findfont: Font family 'malgun gothic' not found.\n",
      "findfont: Font family 'malgun gothic' not found.\n",
      "findfont: Font family 'malgun gothic' not found.\n",
      "findfont: Font family 'malgun gothic' not found.\n",
      "findfont: Font family 'malgun gothic' not found.\n",
      "findfont: Font family 'malgun gothic' not found.\n",
      "findfont: Font family 'malgun gothic' not found.\n",
      "findfont: Font family 'malgun gothic' not found.\n",
      "findfont: Font family 'malgun gothic' not found.\n",
      "findfont: Font family 'malgun gothic' not found.\n",
      "findfont: Font family 'malgun gothic' not found.\n",
      "findfont: Font family 'malgun gothic' not found.\n",
      "findfont: Font family 'malgun gothic' not found.\n",
      "findfont: Font family 'malgun gothic' not found.\n",
      "findfont: Font family 'malgun gothic' not found.\n",
      "findfont: Font family 'malgun gothic' not found.\n",
      "findfont: Font family 'malgun gothic' not found.\n",
      "findfont: Font family 'malgun gothic' not found.\n",
      "findfont: Font family 'malgun gothic' not found.\n"
     ]
    },
    {
     "data": {
      "text/plain": "<Figure size 640x480 with 1 Axes>",
      "image/png": "[encoded data removed]"
     },
     "metadata": {},
     "output_type": "display_data"
    }
   ],
   "source": [
    "colors = ['b', 'y', 'r']\n",
    "plt.bar(index, df['판매량'], width=0.5, color=colors, edgecolor = 'g',linewidth =5)\n",
    "plt.xticks(index, label, fontsize=15)\n",
    "plt.title('판매량 집계', fontsize=20)\n",
    "plt.show()"
   ],
   "metadata": {
    "collapsed": false
   }
  },
  {
   "cell_type": "code",
   "execution_count": 13,
   "outputs": [
    {
     "data": {
      "text/plain": "<function matplotlib.pyplot.show(close=None, block=None)>"
     },
     "execution_count": 13,
     "metadata": {},
     "output_type": "execute_result"
    },
    {
     "name": "stderr",
     "output_type": "stream",
     "text": [
      "findfont: Font family 'malgun gothic' not found.\n",
      "findfont: Font family 'malgun gothic' not found.\n",
      "findfont: Font family 'malgun gothic' not found.\n",
      "findfont: Font family 'malgun gothic' not found.\n",
      "findfont: Font family 'malgun gothic' not found.\n",
      "findfont: Font family 'malgun gothic' not found.\n",
      "findfont: Font family 'malgun gothic' not found.\n",
      "findfont: Font family 'malgun gothic' not found.\n",
      "findfont: Font family 'malgun gothic' not found.\n",
      "findfont: Font family 'malgun gothic' not found.\n",
      "findfont: Font family 'malgun gothic' not found.\n",
      "findfont: Font family 'malgun gothic' not found.\n",
      "findfont: Font family 'malgun gothic' not found.\n",
      "findfont: Font family 'malgun gothic' not found.\n",
      "findfont: Font family 'malgun gothic' not found.\n",
      "findfont: Font family 'malgun gothic' not found.\n",
      "findfont: Font family 'malgun gothic' not found.\n",
      "findfont: Font family 'malgun gothic' not found.\n",
      "findfont: Font family 'malgun gothic' not found.\n",
      "findfont: Font family 'malgun gothic' not found.\n",
      "findfont: Font family 'malgun gothic' not found.\n",
      "findfont: Font family 'malgun gothic' not found.\n",
      "findfont: Font family 'malgun gothic' not found.\n",
      "findfont: Font family 'malgun gothic' not found.\n",
      "findfont: Font family 'malgun gothic' not found.\n",
      "findfont: Font family 'malgun gothic' not found.\n",
      "findfont: Font family 'malgun gothic' not found.\n",
      "findfont: Font family 'malgun gothic' not found.\n",
      "findfont: Font family 'malgun gothic' not found.\n",
      "findfont: Font family 'malgun gothic' not found.\n",
      "findfont: Font family 'malgun gothic' not found.\n",
      "findfont: Font family 'malgun gothic' not found.\n",
      "findfont: Font family 'malgun gothic' not found.\n",
      "findfont: Font family 'malgun gothic' not found.\n",
      "findfont: Font family 'malgun gothic' not found.\n",
      "findfont: Font family 'malgun gothic' not found.\n",
      "findfont: Font family 'malgun gothic' not found.\n",
      "findfont: Font family 'malgun gothic' not found.\n"
     ]
    },
    {
     "data": {
      "text/plain": "<Figure size 640x480 with 1 Axes>",
      "image/png": "[encoded data removed]"
     },
     "metadata": {},
     "output_type": "display_data"
    }
   ],
   "source": [
    "#가로 막대 그래프\n",
    "y = np.arange(len(label))\n",
    "plt.barh(y, df['가격'])\n",
    "plt.yticks(y,label)\n",
    "plt.show"
   ],
   "metadata": {
    "collapsed": false
   }
  },
  {
   "cell_type": "code",
   "execution_count": 22,
   "outputs": [
    {
     "name": "stderr",
     "output_type": "stream",
     "text": [
      "findfont: Font family 'malgun gothic' not found.\n",
      "findfont: Font family 'malgun gothic' not found.\n",
      "/Users/bugil/Documents/GitHub/PracticeCodingTest/venv/lib/python3.11/site-packages/IPython/core/pylabtools.py:152: UserWarning: Glyph 44032 (\\N{HANGUL SYLLABLE GA}) missing from current font.\n",
      "  fig.canvas.print_figure(bytes_io, **kw)\n",
      "/Users/bugil/Documents/GitHub/PracticeCodingTest/venv/lib/python3.11/site-packages/IPython/core/pylabtools.py:152: UserWarning: Glyph 44201 (\\N{HANGUL SYLLABLE GYEOG}) missing from current font.\n",
      "  fig.canvas.print_figure(bytes_io, **kw)\n",
      "/Users/bugil/Documents/GitHub/PracticeCodingTest/venv/lib/python3.11/site-packages/IPython/core/pylabtools.py:152: UserWarning: Glyph 48708 (\\N{HANGUL SYLLABLE BI}) missing from current font.\n",
      "  fig.canvas.print_figure(bytes_io, **kw)\n",
      "/Users/bugil/Documents/GitHub/PracticeCodingTest/venv/lib/python3.11/site-packages/IPython/core/pylabtools.py:152: UserWarning: Glyph 50984 (\\N{HANGUL SYLLABLE YUL}) missing from current font.\n",
      "  fig.canvas.print_figure(bytes_io, **kw)\n",
      "/Users/bugil/Documents/GitHub/PracticeCodingTest/venv/lib/python3.11/site-packages/IPython/core/pylabtools.py:152: UserWarning: Glyph 44368 (\\N{HANGUL SYLLABLE GYO}) missing from current font.\n",
      "  fig.canvas.print_figure(bytes_io, **kw)\n",
      "/Users/bugil/Documents/GitHub/PracticeCodingTest/venv/lib/python3.11/site-packages/IPython/core/pylabtools.py:152: UserWarning: Glyph 54364 (\\N{HANGUL SYLLABLE PYO}) missing from current font.\n",
      "  fig.canvas.print_figure(bytes_io, **kw)\n",
      "findfont: Font family 'malgun gothic' not found.\n",
      "findfont: Font family 'malgun gothic' not found.\n",
      "/Users/bugil/Documents/GitHub/PracticeCodingTest/venv/lib/python3.11/site-packages/IPython/core/pylabtools.py:152: UserWarning: Glyph 44256 (\\N{HANGUL SYLLABLE GO}) missing from current font.\n",
      "  fig.canvas.print_figure(bytes_io, **kw)\n",
      "/Users/bugil/Documents/GitHub/PracticeCodingTest/venv/lib/python3.11/site-packages/IPython/core/pylabtools.py:152: UserWarning: Glyph 44553 (\\N{HANGUL SYLLABLE GEUB}) missing from current font.\n",
      "  fig.canvas.print_figure(bytes_io, **kw)\n",
      "/Users/bugil/Documents/GitHub/PracticeCodingTest/venv/lib/python3.11/site-packages/IPython/core/pylabtools.py:152: UserWarning: Glyph 54805 (\\N{HANGUL SYLLABLE HYEONG}) missing from current font.\n",
      "  fig.canvas.print_figure(bytes_io, **kw)\n",
      "findfont: Font family 'malgun gothic' not found.\n",
      "findfont: Font family 'malgun gothic' not found.\n",
      "/Users/bugil/Documents/GitHub/PracticeCodingTest/venv/lib/python3.11/site-packages/IPython/core/pylabtools.py:152: UserWarning: Glyph 51068 (\\N{HANGUL SYLLABLE IL}) missing from current font.\n",
      "  fig.canvas.print_figure(bytes_io, **kw)\n",
      "/Users/bugil/Documents/GitHub/PracticeCodingTest/venv/lib/python3.11/site-packages/IPython/core/pylabtools.py:152: UserWarning: Glyph 48152 (\\N{HANGUL SYLLABLE BAN}) missing from current font.\n",
      "  fig.canvas.print_figure(bytes_io, **kw)\n",
      "findfont: Font family 'malgun gothic' not found.\n",
      "findfont: Font family 'malgun gothic' not found.\n",
      "/Users/bugil/Documents/GitHub/PracticeCodingTest/venv/lib/python3.11/site-packages/IPython/core/pylabtools.py:152: UserWarning: Glyph 51200 (\\N{HANGUL SYLLABLE JEO}) missing from current font.\n",
      "  fig.canvas.print_figure(bytes_io, **kw)\n",
      "findfont: Font family 'malgun gothic' not found.\n",
      "findfont: Font family 'malgun gothic' not found.\n",
      "findfont: Font family 'malgun gothic' not found.\n",
      "findfont: Font family 'malgun gothic' not found.\n",
      "findfont: Font family 'malgun gothic' not found.\n",
      "findfont: Font family 'malgun gothic' not found.\n",
      "findfont: Font family 'malgun gothic' not found.\n",
      "findfont: Font family 'malgun gothic' not found.\n",
      "findfont: Font family 'malgun gothic' not found.\n",
      "findfont: Font family 'malgun gothic' not found.\n",
      "findfont: Font family 'malgun gothic' not found.\n",
      "findfont: Font family 'malgun gothic' not found.\n",
      "findfont: Font family 'malgun gothic' not found.\n",
      "findfont: Font family 'malgun gothic' not found.\n",
      "findfont: Font family 'malgun gothic' not found.\n",
      "findfont: Font family 'malgun gothic' not found.\n",
      "findfont: Font family 'malgun gothic' not found.\n"
     ]
    },
    {
     "data": {
      "text/plain": "<Figure size 640x480 with 1 Axes>",
      "image/png": "[encoded data removed]"
     },
     "metadata": {},
     "output_type": "display_data"
    }
   ],
   "source": [
    "#원형 그래프\n",
    "df[['구분', '가격']]\n",
    "label = ['고급형', '일반형', '저가형']\n",
    "plt.pie(df['가격'], labels = label, autopct =' %.2f%%')\n",
    "plt.title('가격 비율 비교표', fontsize=20, color = 'r')\n",
    "plt.show()"
   ],
   "metadata": {
    "collapsed": false
   }
  },
  {
   "cell_type": "code",
   "execution_count": null,
   "outputs": [],
   "source": [],
   "metadata": {
    "collapsed": false
   }
  }
 ],
 "metadata": {
  "kernelspec": {
   "display_name": "Python 3",
   "language": "python",
   "name": "python3"
  },
  "language_info": {
   "codemirror_mode": {
    "name": "ipython",
    "version": 2
   },
   "file_extension": ".py",
   "mimetype": "text/x-python",
   "name": "python",
   "nbconvert_exporter": "python",
   "pygments_lexer": "ipython2",
   "version": "2.7.6"
  }
 },
 "nbformat": 4,
 "nbformat_minor": 0
}
